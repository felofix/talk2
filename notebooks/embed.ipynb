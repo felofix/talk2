{
 "cells": [
  {
   "cell_type": "code",
   "execution_count": 4,
   "id": "aab9eb42-34a4-4cc8-9aa1-25cfcfc84caa",
   "metadata": {},
   "outputs": [],
   "source": [
    "import numpy as np\n",
    "from langchain.text_splitter import RecursiveCharacterTextSplitter\n",
    "from langchain.embeddings import OpenAIEmbeddings\n",
    "from langchain.vectorstores import Qdrant\n",
    "from qdrant_client import QdrantClient\n",
    "from dotenv import load_dotenv\n",
    "import os\n",
    "from qdrant_client.models import Distance, VectorParams\n",
    "\n",
    "\n",
    "load_dotenv()\n",
    "\n",
    "openAI_key = os.getenv(\"OPENAI_KEY\")\n",
    "qdrant_key = os.getenv(\"QDRANT_KEY\")\n",
    "qdrant_url = \"https://25c776da-e46f-4017-a9ae-57be7489d68e.us-east4-0.gcp.cloud.qdrant.io\" \n",
    "qdrant_client = QdrantClient(url=qdrant_url, api_key=qdrant_key)"
   ]
  },
  {
   "cell_type": "code",
   "execution_count": 20,
   "id": "ea1abdf5-ac49-4450-bac4-855fbc011fde",
   "metadata": {},
   "outputs": [],
   "source": [
    "# Nietszche texts.\n",
    "manifesto = None\n",
    "\n",
    "with open(\"../documents/kaczynski/manifesto.txt\", \"r\", encoding=\"utf-8\") as file:\n",
    "    manifesto = file.read()  # This loads the entire text as a single string\n",
    "    \n",
    "collection_name = \"kaczynski\""
   ]
  },
  {
   "cell_type": "code",
   "execution_count": 21,
   "id": "e072cb05-4f07-42e8-9883-48061bc3df60",
   "metadata": {},
   "outputs": [],
   "source": [
    "# Initialize the text splitter\n",
    "text_splitter = RecursiveCharacterTextSplitter(chunk_size=1000, chunk_overlap=200)\n",
    "\n",
    "# Split texts into chunks\n",
    "documents = []\n",
    "\n",
    "chunks = text_splitter.create_documents([manifesto])\n",
    "documents.extend(chunks)\n",
    "\n",
    "# Initialize embeddings (replace with your OpenAI API key)\n",
    "embeddings = OpenAIEmbeddings(openai_api_key=openAI_key)"
   ]
  },
  {
   "cell_type": "code",
   "execution_count": null,
   "id": "fcb4d2de-3911-4b00-bde9-ef0edb4de9ff",
   "metadata": {},
   "outputs": [],
   "source": [
    "# Generate and upload embeddings\n",
    "for i, document in enumerate(documents):\n",
    "    embedding = embeddings.embed_query(document.page_content)  # Generate embedding for the document\n",
    "    qdrant_client.upsert(\n",
    "        collection_name=collection_name,\n",
    "        points=[{\"id\": i, \"vector\": embedding, \"payload\": {\"text\": document.page_content}}]\n",
    "    )"
   ]
  },
  {
   "cell_type": "code",
   "execution_count": null,
   "id": "dc5157dc-2f7a-4c11-a037-7a6ba42df765",
   "metadata": {},
   "outputs": [],
   "source": []
  }
 ],
 "metadata": {
  "kernelspec": {
   "display_name": "Python 3 (ipykernel)",
   "language": "python",
   "name": "python3"
  },
  "language_info": {
   "codemirror_mode": {
    "name": "ipython",
    "version": 3
   },
   "file_extension": ".py",
   "mimetype": "text/x-python",
   "name": "python",
   "nbconvert_exporter": "python",
   "pygments_lexer": "ipython3",
   "version": "3.8.8"
  }
 },
 "nbformat": 4,
 "nbformat_minor": 5
}
